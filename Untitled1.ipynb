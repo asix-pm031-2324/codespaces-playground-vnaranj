{
 "cells": [
  {
   "cell_type": "code",
   "execution_count": 16,
   "id": "0a8530cb-093d-474d-9027-a89e0afc0f07",
   "metadata": {
    "tags": []
   },
   "outputs": [
    {
     "name": "stdin",
     "output_type": "stream",
     "text": [
      "dime tu edad: 32\n"
     ]
    },
    {
     "name": "stdout",
     "output_type": "stream",
     "text": [
      "eres mayor de edad\n",
      "Felicidades viejo\n"
     ]
    }
   ],
   "source": [
    "##### ingresar tu edad\n",
    "#tu_edad = int(input(\"dime tu edad corazón:\"))\n",
    "#determinar tu eswtado\n",
    "#resultado = determinar_tu_edad(tu_edad)\n",
    "edad = int(input(\"dime tu edad:\"))\n",
    "if edad < 18:\n",
    "    print(\"Eres menor guapo\")\n",
    "elif edad <65:\n",
    "    print(\"eres mayor de edad\")\n",
    "    \n",
    "    if edad >= 30 and edad <= 50:\n",
    "        print(\"Felicidades viejo\")\n",
    "    \n",
    "else:\n",
    "    print(\"estas cascado\")\n",
    "\n",
    "#print(resultado)"
   ]
  },
  {
   "cell_type": "code",
   "execution_count": 6,
   "id": "d62424ad-e2c9-43e9-8383-5ad5f9146376",
   "metadata": {},
   "outputs": [
    {
     "name": "stdin",
     "output_type": "stream",
     "text": [
      "Dime un numero 2\n",
      "Dime otro numero 34\n"
     ]
    },
    {
     "name": "stdout",
     "output_type": "stream",
     "text": [
      "Los numeros son 2 y 34\n"
     ]
    },
    {
     "name": "stdin",
     "output_type": "stream",
     "text": [
      "Como estas tos\n",
      "y tu covid\n"
     ]
    },
    {
     "name": "stdout",
     "output_type": "stream",
     "text": [
      "persona2 pasa primero\n"
     ]
    }
   ],
   "source": [
    "numero1 = int(input(\"Dime un numero\"))\n",
    "numero2 = int(input(\"Dime otro numero\"))\n",
    "\n",
    "if numero1 > numero2:\n",
    "    numero1,numero2=numero2,numero1\n",
    "  \n",
    "print(\"Los numeros son\", numero1, \"y\" ,numero2)\n",
    "\n",
    "estado1=input(\"Como estas\")\n",
    "estado2=input(\"y tu\")\n",
    "#if estado1==\"covid\":\n",
    "#    print(\"El nuevo order es\", numero1, \"y\" , numero2)\n",
    "#else:\n",
    "#    print(\"El nuevo order es\", numero2, \"y\" , numero1)\n",
    "a='covid'\n",
    "b='covido' (a==b or b!=c and c>=4 or b==6)\n",
    "if a==b :\n",
    "    print(\"persona1 pasa primero\")\n",
    "    \n",
    "elif estado2 ==\"covid\":\n",
    "    print(\"persona2 pasa primero\")\n",
    "else:\n",
    "    print(\"no tiemes covid\")"
   ]
  }
 ],
 "metadata": {
  "kernelspec": {
   "display_name": "Python 3",
   "language": "python",
   "name": "python3"
  },
  "language_info": {
   "codemirror_mode": {
    "name": "ipython",
    "version": 3
   },
   "file_extension": ".py",
   "mimetype": "text/x-python",
   "name": "python",
   "nbconvert_exporter": "python",
   "pygments_lexer": "ipython3",
   "version": "3.10.9"
  }
 },
 "nbformat": 4,
 "nbformat_minor": 5
}
