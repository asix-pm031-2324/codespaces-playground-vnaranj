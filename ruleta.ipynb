{
 "cells": [
  {
   "cell_type": "code",
   "execution_count": 45,
   "id": "d5e2532f-75f9-4e0d-8c0c-ba263d458588",
   "metadata": {},
   "outputs": [
    {
     "name": "stdout",
     "output_type": "stream",
     "text": [
      "Bienvenido a la ruleta. Solo puedes jugar si eres mayor de edad. Juega con responsabilidad.\n"
     ]
    },
    {
     "name": "stdin",
     "output_type": "stream",
     "text": [
      "Por favor, ingresa tu edad: 66\n"
     ]
    },
    {
     "name": "stdout",
     "output_type": "stream",
     "text": [
      "Puedes jugar bajo tu responsabilidad. El juego puede provocar adiccion sino juegas con moderacion\n",
      "El numero ganador es: 30\n",
      "rojo\n",
      "par\n",
      "pasa\n",
      "tercera docena\n"
     ]
    }
   ],
   "source": [
    "#Programa ruleta francesa\n",
    "\n",
    "#S'ha de demanar l'edat  a l'usuari i només començara a jugar si és major d'edat. Si no, s'ha de mostrar un missatge prohibint l'acces i finalitza el programa\n",
    "#Definir una función\n",
    "\n",
    "import random\n",
    "\n",
    "#\"Has de er major d'edad per a jugar\".  Els jocs d'atzar poden crear adicció.  Si ets major d'edat, juga responsablement\n",
    "print(\"Bienvenido a la ruleta. Solo puedes jugar si eres mayor de edad. Juega con responsabilidad.\")\n",
    "\n",
    "edad = int(input(\"Por favor, ingresa tu edad:\"))\n",
    "if edad < 18:\n",
    "    print(\"Lo siento, debes ser mayor de edad para jugar.\")\n",
    "else:\n",
    "    print(\"Puedes jugar bajo tu responsabilidad. El juego puede provocar adiccion sino juegas con moderacion\")\n",
    "    #Es genera i es mostra un número aleatori\n",
    "    numero= random.randint(0,36)\n",
    "    print(\"El numero ganador es:\", numero)\n",
    "    \n",
    "    #Cada vegada que surt un número, s'indica si és negre o vermell\n",
    "    rojos = (1, 3, 5, 7, 9, 12, 14, 16, 18, 19, 21, 23, 25, 27, 30, 32, 34, 36)\n",
    "    #negros = [2, 4, 6, 8, 10, 11, 13, 15, 17, 20, 22, 24, 26, 28, 29, 31, 33, 35]\n",
    "    \n",
    "    #color = \"rojo\" if numero in rojos else (\"negro\" if numero in negros else \"verde\")\n",
    "    if numero in rojos:\n",
    "        color = \"rojo\"\n",
    "    else: \n",
    "        color = \"negro\"\n",
    "\n",
    "    print(color)\n",
    "    \n",
    "    #Cada vegada que surt un número, s'indica si és par o impar\n",
    "    #tupla_pares = [2,4,6,8,10,12,14,16,18,20,22,24,26,28,30,32,34,36]\n",
    "    #if numero in tupla_pares\n",
    "    #    paridad= \"par\"\n",
    "    #else:\n",
    "    #    paridad= \"impar\"\n",
    "    #print paridad\n",
    "    \n",
    "    #paridad=\"impar\"\n",
    "    #tupla_pares = [2,4,6,8,10,12,14,16,18,20,22,24,26,28,30,32,34,36]\n",
    "    #if numero in tupla_pares\n",
    "    #    paridad= \"par\"\n",
    "    #print paridad  \n",
    "   \n",
    "    if numero % 2 == 0:\n",
    "        paridad = \"par\"\n",
    "    else:\n",
    "        paridad =\"impar\"\n",
    "    print(paridad)\n",
    "    \n",
    "    #paridad=\"impar\n",
    "    #if numero % 2 == 0:\n",
    "    #    paridad = \"par\"\n",
    "    #print(paridad)\n",
    "    \n",
    "    # Cada vegada que surt un número, s'indica si pasa o falta\n",
    "    if 1 <= numero <= 18:\n",
    "        falta_pasa = \"falta\"\n",
    "    else:\n",
    "        falta_pasa = \"pasa\"\n",
    "    \n",
    "    print(falta_pasa)\n",
    "    \n",
    "    #Cada vegada que surt un número, s'indica el terç\n",
    "    \n",
    "    if 1 <= numero and numero <= 12:\n",
    "        docena= \"primera docena\"\n",
    "    elif 13 <= numero and numero <= 24:\n",
    "        docena= \"segunda docena\"\n",
    "    else:\n",
    "        docena= \"tercera docena\"\n",
    "    print(docena)\n",
    "        \n",
    "    \n",
    "    \n",
    "    \n",
    "    \n",
    "    \n",
    "    \n"
   ]
  },
  {
   "cell_type": "code",
   "execution_count": 42,
   "id": "b1b8e93d-9a85-43f5-9f83-134b913ab834",
   "metadata": {
    "tags": []
   },
   "outputs": [
    {
     "data": {
      "text/plain": [
       "20"
      ]
     },
     "execution_count": 42,
     "metadata": {},
     "output_type": "execute_result"
    }
   ],
   "source": [
    "20"
   ]
  },
  {
   "cell_type": "code",
   "execution_count": 19,
   "id": "3dc3c242-e42f-46f3-b9a0-abf7d91acbd9",
   "metadata": {
    "tags": []
   },
   "outputs": [
    {
     "data": {
      "text/plain": [
       "4"
      ]
     },
     "execution_count": 19,
     "metadata": {},
     "output_type": "execute_result"
    }
   ],
   "source": [
    "4"
   ]
  },
  {
   "cell_type": "code",
   "execution_count": null,
   "id": "9372c8a3-6aab-4f4e-ac98-5c7a9e659daa",
   "metadata": {},
   "outputs": [],
   "source": []
  },
  {
   "cell_type": "code",
   "execution_count": null,
   "id": "9021e59c-9a10-4ce5-90ed-abdfa11879d6",
   "metadata": {},
   "outputs": [],
   "source": []
  }
 ],
 "metadata": {
  "kernelspec": {
   "display_name": "Python 3",
   "language": "python",
   "name": "python3"
  },
  "language_info": {
   "codemirror_mode": {
    "name": "ipython",
    "version": 3
   },
   "file_extension": ".py",
   "mimetype": "text/x-python",
   "name": "python",
   "nbconvert_exporter": "python",
   "pygments_lexer": "ipython3",
   "version": "3.10.9"
  }
 },
 "nbformat": 4,
 "nbformat_minor": 5
}
