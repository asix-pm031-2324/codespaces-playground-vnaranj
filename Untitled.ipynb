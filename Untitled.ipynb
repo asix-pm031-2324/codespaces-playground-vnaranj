{
 "cells": [
  {
   "cell_type": "code",
   "execution_count": null,
   "id": "f4d11f1d-29b6-42ea-b616-82acbc4f73ee",
   "metadata": {
    "tags": []
   },
   "outputs": [],
   "source": [
    "# ingresar tu edad\n",
    "#tu_edad = int(input(\"dime tu edad corazón:\"))\n",
    "#determinar tu eswtado\n",
    "#resultado = determinar_tu_edad(tu_edad)\n",
    "edad = int(input(\"dime tu edad:\"))\n",
    "if edad < 18:\n",
    "  print(\"Eres menor guapo\")\n",
    "elif edad >= 18 and edad <65:\n",
    "    print(\"eres mayor de edad\")\n",
    "else:\n",
    "    print(\"estas cascado\")\n",
    "\n",
    "#print(resultado)"
   ]
  },
  {
   "cell_type": "code",
   "execution_count": null,
   "id": "d4e39f4d-5728-4963-a9ff-00d23c5290ab",
   "metadata": {},
   "outputs": [],
   "source": []
  },
  {
   "cell_type": "code",
   "execution_count": null,
   "id": "652745c3-46e9-4226-8686-daef388ab450",
   "metadata": {},
   "outputs": [],
   "source": []
  },
  {
   "cell_type": "code",
   "execution_count": null,
   "id": "772a8121-c5c2-40be-9677-002ee1b81148",
   "metadata": {},
   "outputs": [],
   "source": []
  },
  {
   "cell_type": "code",
   "execution_count": null,
   "id": "1562c496-43b4-44fb-8c09-7b3f6b407a5d",
   "metadata": {},
   "outputs": [],
   "source": []
  }
 ],
 "metadata": {
  "kernelspec": {
   "display_name": "Python 3",
   "language": "python",
   "name": "python3"
  },
  "language_info": {
   "codemirror_mode": {
    "name": "ipython",
    "version": 3
   },
   "file_extension": ".py",
   "mimetype": "text/x-python",
   "name": "python",
   "nbconvert_exporter": "python",
   "pygments_lexer": "ipython3",
   "version": "3.10.9"
  }
 },
 "nbformat": 4,
 "nbformat_minor": 5
}
