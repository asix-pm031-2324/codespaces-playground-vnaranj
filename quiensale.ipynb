{
 "cells": [
  {
   "cell_type": "code",
   "execution_count": null,
   "id": "e823ab50-b0fb-4419-bf7a-c5a1d49cf0fe",
   "metadata": {},
   "outputs": [],
   "source": [
    "#Programa que cuenta desde 50 hasta 0\n",
    "for i in range(0, 51, +1):\n",
    "    print(i)\n",
    "\n",
    "#Programa que pregunta la edad que tienes\n",
    "#I que te dice los años que tendras cada año desde el 2024 hasta el 2034\n",
    "edad_actual = int(input (\"que edad tienes\"))\n",
    "for any in range(0, 11):\n",
    "    edad_any = edad_actual + any\n",
    "    print(\" el any\", 2024+any , \"tindras\", edad_any, \"anys\")"
   ]
  },
  {
   "cell_type": "code",
   "execution_count": 15,
   "id": "bc6a981d-63c7-4139-ab4b-52029ebb86d0",
   "metadata": {},
   "outputs": [
    {
     "name": "stdin",
     "output_type": "stream",
     "text": [
      "Quieres up o down? ricardo guapo\n"
     ]
    },
    {
     "name": "stdout",
     "output_type": "stream",
     "text": [
      "No es una opción\n"
     ]
    }
   ],
   "source": [
    "respuesta = input(\"Quieres up o down?\")\n",
    "if respuesta == \"up\":\n",
    "    for up in range(0,21,+1):\n",
    "        print(up)\n",
    "elif respuesta == \"down\":\n",
    "    for down in range(20,-1,-1):\n",
    "        print(down)\n",
    "else:\n",
    "    print(\"No es una opción\")"
   ]
  },
  {
   "cell_type": "code",
   "execution_count": 42,
   "id": "9e173b60-bf56-4c4e-ac73-93da4c2882fa",
   "metadata": {},
   "outputs": [
    {
     "name": "stdout",
     "output_type": "stream",
     "text": [
      "17 es una prueba\n"
     ]
    }
   ],
   "source": [
    "# Haz un programa que genere un número aleatorio entre 1-21\n",
    "\n",
    "import random\n",
    "\n",
    "prueba = \"es una prueba\"\n",
    "#prueba = \"te ha tocao pringao\"\n",
    "x = random.randint(1,21)\n",
    "if x in (1, 10, 13):\n",
    "    print(x, \" tlira de la ruleta otra vez que este está excluido\")\n",
    "else:\n",
    "    print(x , prueba)\n"
   ]
  },
  {
   "cell_type": "code",
   "execution_count": 2,
   "id": "b479bb12-97cb-4541-bd95-7486b03b3d51",
   "metadata": {
    "tags": []
   },
   "outputs": [
    {
     "name": "stdout",
     "output_type": "stream",
     "text": [
      "Xavi te ha tocao, afortunado\n"
     ]
    },
    {
     "ename": "KeyboardInterrupt",
     "evalue": "",
     "output_type": "error",
     "traceback": [
      "\u001b[0;31m---------------------------------------------------------------------------\u001b[0m",
      "\u001b[0;31mKeyboardInterrupt\u001b[0m                         Traceback (most recent call last)",
      "Cell \u001b[0;32mIn[2], line 23\u001b[0m\n\u001b[1;32m     21\u001b[0m         \u001b[38;5;28mprint\u001b[39m(lista[x], prueba)\n\u001b[1;32m     22\u001b[0m         continuar\u001b[38;5;241m=\u001b[39m\u001b[38;5;28;01mFalse\u001b[39;00m\n\u001b[0;32m---> 23\u001b[0m         \u001b[43mtime\u001b[49m\u001b[38;5;241;43m.\u001b[39;49m\u001b[43msleep\u001b[49m\u001b[43m(\u001b[49m\u001b[38;5;241;43m3\u001b[39;49m\u001b[43m)\u001b[49m\n\u001b[1;32m     24\u001b[0m \u001b[38;5;66;03m#print(\"fin\")\u001b[39;00m\n\u001b[1;32m     25\u001b[0m \u001b[38;5;66;03m#print(lista[x], \" tira de la ruleta otra vez que este está excluido\")\u001b[39;00m\n\u001b[1;32m     26\u001b[0m \u001b[38;5;66;03m#    else:0..\u001b[39;00m\n",
      "\u001b[0;31mKeyboardInterrupt\u001b[0m: "
     ]
    }
   ],
   "source": [
    "# Haz un programa que genere un número aleatorio entre 1-21\n",
    "\n",
    "import random\n",
    "import time\n",
    "\n",
    "#time.sleep(3)\n",
    "\n",
    "while True:\n",
    "    continuar = True\n",
    "    prueba = \"es una prueba\"\n",
    "    #prueba = \"te ha tocao, afortunado\"\n",
    "    \n",
    "    \n",
    "    while continuar:\n",
    "        \n",
    "        x = random.randint(0,20)\n",
    "    \n",
    "        lista = [\"Alex\", \"Ivan\", \"John\", \"Aaron\", \"Eric\", \"Manuel\", \"Alex Ramos\", \"David\", \"Ismael\",\"Luis\", \"Albert\", \"Victor\", \"Rafa\", \"Moya\", \"Ruben\", \"Manel\", \"Xavi\", \"Edgar\", \"Ivan Lopez\", \"Mario\", \"Ricardo\"]\n",
    "    \n",
    "        if x not in (0, 2, 9, 11, 12):\n",
    "            print(lista[x], prueba)\n",
    "            continuar=False\n",
    "            time.sleep(3)\n",
    "#print(\"fin\")\n",
    "#print(lista[x], \" tira de la ruleta otra vez que este está excluido\")\n",
    "#    else:0..\n",
    "\n",
    "\n",
    "        \n",
    "\n",
    "\n"
   ]
  },
  {
   "cell_type": "code",
   "execution_count": 12,
   "id": "a41b2f33-fbf9-4b48-9517-97ce77fae396",
   "metadata": {
    "jp-MarkdownHeadingCollapsed": true,
    "tags": []
   },
   "outputs": [
    {
     "name": "stdout",
     "output_type": "stream",
     "text": [
      "Manel es una prueba\n"
     ]
    }
   ],
   "source": [
    "# Haz un programa que genere un número aleatorio entre 1-21\n",
    "\n",
    "import random\n",
    "import time\n",
    "\n",
    "#time.sleep(3)\n",
    "\n",
    "#while True:4\n",
    "continuar = True\n",
    "prueba = \"es una prueba\"\n",
    "#prueba = \"te ha tocao, afortunado\"\n",
    "\n",
    "\n",
    "while continuar:\n",
    "    x = random.randint(0,21)\n",
    "    \n",
    "\n",
    "    diccionary = { \"Lobezno\":\"Alex\", \"Capitan_Amenrica\":\"Ivan\", \"Gambit\":\"John\", \n",
    "                   \"Nick_Furia\":\"Aaron\", \"Alman\":\"Eric\", \"Tigre_Blanco\":\"Manuel\", \n",
    "                   \"Hulk\":\"Alex Ramos\", \"Dare_Devil\":\"David\",\"DeadPool\":\"Ismael\",\n",
    "                   \"Silver_Surfer\":\"Luis\", \"Baby_Groot\":\"Albert\",\"Hercules\": \"Victor\",\n",
    "                   \"Blade\" :\"Rafa\",\"Quasa\": \"Moya\",\"Havok\": \"Ruben\",\"Rick_Jones\":\"Manel\",\n",
    "                   \"Cloak\":\"Xavi\", \"Warlock\":\"Edgar\",\"Bishop\":\"Ivan Lopez\",\"Rocket\":\"Mario\", \n",
    "                   \"Spiderman\":\"Ricardo\",\"GreenArrow\": \"Gonzalo\"}\n",
    "\n",
    "    \n",
    "    if x not in (0, 2, 9, 11, 12,20):\n",
    "        claves = diccionary.keys()  #keys(dictioanry)\n",
    "        valor=0\n",
    "        for super in claves:\n",
    "            if valor==x:  \n",
    "                print(diccionary[super],prueba)\n",
    "            valor+=1\n",
    "        #print(diccionary[keys], prueba)\n",
    "        continuar=False\n",
    "        time.sleep(3)\n",
    "#print(\"fin\")\n",
    "#print(lista[x], \" tira de la ruleta otra vez que este está excluido\")\n",
    "#    else:0..\n",
    "\n",
    "\n",
    "        \n",
    "\n",
    "\n"
   ]
  },
  {
   "cell_type": "code",
   "execution_count": null,
   "id": "9a6d0c83-d68e-4fdd-a7fc-b218ced684ed",
   "metadata": {},
   "outputs": [],
   "source": []
  }
 ],
 "metadata": {
  "kernelspec": {
   "display_name": "Python 3",
   "language": "python",
   "name": "python3"
  },
  "language_info": {
   "codemirror_mode": {
    "name": "ipython",
    "version": 3
   },
   "file_extension": ".py",
   "mimetype": "text/x-python",
   "name": "python",
   "nbconvert_exporter": "python",
   "pygments_lexer": "ipython3",
   "version": "3.10.9"
  }
 },
 "nbformat": 4,
 "nbformat_minor": 5
}
